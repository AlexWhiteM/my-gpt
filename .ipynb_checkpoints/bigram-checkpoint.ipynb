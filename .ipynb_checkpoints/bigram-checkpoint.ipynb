{
 "cells": [
  {
   "cell_type": "code",
   "execution_count": 10,
   "metadata": {},
   "outputs": [
    {
     "name": "stdout",
     "output_type": "stream",
     "text": [
      "cuda\n"
     ]
    }
   ],
   "source": [
    "import torch\n",
    "import torch.nn as nn\n",
    "from torch.nn import functional as F\n",
    "device = 'cuda' if torch.cuda.is_available() else 'cpu'\n",
    "print(device)\n",
    "block_size = 8\n",
    "batch_size = 4\n",
    "max_iters = 10000\n",
    "# eval_interval = 2500\n",
    "learning_rate = 3e-4\n",
    "eval_iters=250\n",
    "# droupout = 0.2"
   ]
  },
  {
   "cell_type": "code",
   "execution_count": 11,
   "metadata": {},
   "outputs": [],
   "source": [
    "with open('wizard_of_oz.txt','r',encoding='utf-8') as f:\n",
    "    text = f.read()\n",
    "# print(len(text))\n",
    "# print(text[:200])\n",
    "chars = sorted(set(text))\n",
    "# print(chars)\n",
    "# print(len(chars))\n",
    "vocab_size = len(chars)"
   ]
  },
  {
   "cell_type": "code",
   "execution_count": 12,
   "metadata": {},
   "outputs": [
    {
     "name": "stdout",
     "output_type": "stream",
     "text": [
      "tensor([80,  1,  1, 28, 39, 42, 39, 44, 32, 49,  1, 25, 38, 28,  1, 44, 32, 29,\n",
      "         1, 47, 33, 50, 25, 42, 28,  1, 33, 38,  1, 39, 50,  0,  0,  1,  1, 26,\n",
      "        49,  0,  0,  1,  1, 36, 11,  1, 30, 42, 25, 38, 35,  1, 26, 25, 45, 37,\n",
      "         0,  0,  1,  1, 25, 45, 44, 32, 39, 42,  1, 39, 30,  1, 44, 32, 29,  1,\n",
      "        47, 33, 50, 25, 42, 28,  1, 39, 30,  1, 39, 50,  9,  1, 44, 32, 29,  1,\n",
      "        36, 25, 38, 28,  1, 39, 30,  1, 39, 50])\n"
     ]
    }
   ],
   "source": [
    "string_to_int = { ch:i for i,ch in enumerate(chars) }\n",
    "int_to_string = { i:ch for i,ch in enumerate(chars) }\n",
    "encode = lambda s: [string_to_int[c] for c in s]\n",
    "decode = lambda l: ''.join([int_to_string[i] for i in l])\n",
    "\n",
    "# print(encode('hello'))\n",
    "# encodeed_hello = encode('hello')\n",
    "# decodeed_hello = decode(encodeed_hello)\n",
    "# print(decodeed_hello)\n",
    "# 此处使用的是单个字符的token词表，这会使得vocabulary的size较小，当然也会导致整个文本需要划分的encode和decode变得很大。如果使用子词token词表那么恰好相反。\n",
    "\n",
    "data = torch.tensor(encode(text),dtype=torch.long)\n",
    "print(data[:100])"
   ]
  },
  {
   "cell_type": "code",
   "execution_count": 13,
   "metadata": {},
   "outputs": [
    {
     "name": "stdout",
     "output_type": "stream",
     "text": [
      "inputs:\n",
      "tensor([[ 9,  1, 57, 71, 54, 76, 62, 67],\n",
      "        [58, 57,  1, 28, 68, 71, 68, 73],\n",
      "        [66, 58, 11,  1, 32, 58,  1, 56],\n",
      "        [54, 72,  1, 69, 58, 71, 73,  1]], device='cuda:0')\n",
      "targets:\n",
      "tensor([[ 1, 57, 71, 54, 76, 62, 67, 60],\n",
      "        [57,  1, 28, 68, 71, 68, 73, 61],\n",
      "        [58, 11,  1, 32, 58,  1, 56, 54],\n",
      "        [72,  1, 69, 58, 71, 73,  1, 54]], device='cuda:0')\n"
     ]
    }
   ],
   "source": [
    "n = int(0.8*len(data))\n",
    "train_data = data[:n]\n",
    "val_data = data[n:]\n",
    "\n",
    "def get_batch(split):\n",
    "    data = train_data if split == 'train' else val_data\n",
    "    ix = torch.randint(len(data) - block_size,(batch_size,)) #randint(low,high,(size,size,...)),注意当只有一个整数时默认为上界。\n",
    "    # print(ix)\n",
    "    x = torch.stack([data[i:i+block_size] for i in ix])\n",
    "    y = torch.stack([data[i+1:i+block_size+1] for i in ix])\n",
    "    x,y = x.to(device), y.to(device)\n",
    "    return x,y\n",
    "x,y = get_batch('train')\n",
    "print('inputs:')\n",
    "print(x)\n",
    "print('targets:')\n",
    "print(y)"
   ]
  },
  {
   "cell_type": "code",
   "execution_count": 14,
   "metadata": {},
   "outputs": [],
   "source": [
    "# block_size = 8\n",
    "\n",
    "x = train_data[:block_size]\n",
    "y = train_data[1:block_size+1]\n",
    "\n",
    "for t in range(block_size):\n",
    "    context = x[:t+1]   #x[0]~x[t]不包括x[t+1]!\n",
    "    target = y[t]\n",
    "    print('when input is',context,'target is',target)\n",
    "    "
   ]
  },
  {
   "cell_type": "code",
   "execution_count": 15,
   "metadata": {},
   "outputs": [],
   "source": [
    "@torch.no_grad()\n",
    "def estimate_loss():\n",
    "    out = {}  # 用于存储训练集和验证集的平均损失\n",
    "    model.eval()  # 将模型设置为评估模式\n",
    "    for split in ['train', 'val']:\n",
    "        losses = torch.zeros(eval_iters)  # 用于存储每次评估迭代的损失\n",
    "        for k in range(eval_iters):\n",
    "            X, Y = get_batch(split)  # 获取当前批次的数据和标签\n",
    "            logits, loss = model(X, Y)  # 前向传播计算输出和损失\n",
    "            losses[k] = loss.item()  # 记录损失值，item()将张量tensor转化为一个python数值。\n",
    "        out[split] = losses.mean()  # 计算平均损失\n",
    "    model.train()  # 恢复模型为训练模式\n",
    "    return out  # 返回训练集和验证集的平均损失"
   ]
  },
  {
   "cell_type": "code",
   "execution_count": 16,
   "metadata": {},
   "outputs": [
    {
     "name": "stdout",
     "output_type": "stream",
     "text": [
      "\n",
      "xO]f8t3td?:jrJrJx4Q_j]U4r﻿.ZV5*﻿YE﻿C-,\":﻿jrSzxN\n",
      "p]:PXCo;9G& d0\":wi:4k[0RZGRT.-x _fA L;﻿ye﻿73]X-UH1nFy?P0C\n",
      "h!AgIt7gOV!,A 7G.*u*46RmDo!AYiVWk[1Hr:)MeAvkjD Q_9s42c\"8*ayl?lYe_\n",
      "v\n",
      "y) BlQtR.J--,ZO﻿HYre\n",
      "XuhBELIVpdiQ?jNyO:7ld[1nqBll[JN-aYe,Wsp]:LVH0mTyFPL1t\n",
      "nc&5\n",
      "rJDX7a8'2j5*R8D)J0tYg,Lt_BP CQNs-,?a3:uiH5JWRic2iA 1MgHSAg[J4b\"F*vhC*P[gavy,\"jh!yuiA3 kr﻿\"t3UDF6rQ-M:emz.Ghh\"mJWLho)FHP&:!6O9RPw?,we7;&1PBFrZpkUqDMY['4;K7obIxCdHv)y4Dfr7p&rJJYDM&KfH0pCiRS5_S(XO﻿\n",
      "hhetvXAO.YEEZ85 -iSkXxCdUaVpC0Zu2(z\n",
      "(]q'﻿g,T&nzLNLH\n"
     ]
    }
   ],
   "source": [
    "class BigramLanguageModel(nn.Module):\n",
    "    def __init__(self, vocab_size):\n",
    "        super().__init__()\n",
    "        self.token_embedding_table = nn.Embedding(vocab_size, vocab_size)\n",
    "\n",
    "    def forward(self, index, targets=None):\n",
    "        # \"\"\"\n",
    "        # 前向传播函数\n",
    "\n",
    "        # 参数:\n",
    "        # - index: 输入的索引张量，形状为 (B, T)\n",
    "        # - targets: 目标张量，形状为 (B, T)\n",
    "\n",
    "        # 返回:\n",
    "        # - logits: 预测的logits，形状为 (B*T, C)\n",
    "        # - loss: 计算的交叉熵损失\n",
    "        # \"\"\"\n",
    "        logits = self.token_embedding_table(index)\n",
    "        \n",
    "        if targets is None:\n",
    "            loss=None\n",
    "        else:    \n",
    "        \n",
    "            B, T, C = logits.shape\n",
    "            logits = logits.view(B*T, C)\n",
    "            targets = targets.view(B*T)\n",
    "            loss = F.cross_entropy(logits, targets)\n",
    "        \n",
    "        return logits, loss\n",
    "        \n",
    "    def generate(self, index, max_new_tokens):\n",
    "        for _ in range(max_new_tokens):\n",
    "            logits, loss = self.forward(index)\n",
    "            logits = logits[:, -1, :]\n",
    "            probs = F.softmax(logits, dim=-1)\n",
    "            index_next = torch.multinomial(probs, num_samples=1)\n",
    "            index = torch.cat((index, index_next),dim=1)\n",
    "        return index\n",
    "\n",
    "model = BigramLanguageModel(vocab_size)\n",
    "m = model.to(device)\n",
    "\n",
    "context = torch.zeros((1,1), dtype=torch.long, device=device)\n",
    "generated_chars = decode(m.generate(context, max_new_tokens=500)[0].tolist())\n",
    "print(generated_chars)"
   ]
  },
  {
   "cell_type": "code",
   "execution_count": null,
   "metadata": {},
   "outputs": [
    {
     "name": "stdout",
     "output_type": "stream",
     "text": [
      "step: 0, train loss: 4.9053, val loss:4.8979\n",
      "step: 250, train loss: 4.8492, val loss:4.8452\n",
      "step: 500, train loss: 4.8033, val loss:4.7958\n",
      "step: 750, train loss: 4.7232, val loss:4.7295\n",
      "step: 1000, train loss: 4.6526, val loss:4.6804\n",
      "step: 1250, train loss: 4.6139, val loss:4.6119\n",
      "step: 1500, train loss: 4.5507, val loss:4.5513\n",
      "step: 1750, train loss: 4.4884, val loss:4.4952\n",
      "step: 2000, train loss: 4.4489, val loss:4.4418\n",
      "step: 2250, train loss: 4.3917, val loss:4.3920\n",
      "step: 2500, train loss: 4.3302, val loss:4.3215\n",
      "step: 2750, train loss: 4.2949, val loss:4.2796\n",
      "step: 3000, train loss: 4.2283, val loss:4.2254\n",
      "step: 3250, train loss: 4.1794, val loss:4.1809\n",
      "step: 3500, train loss: 4.1493, val loss:4.1425\n",
      "step: 3750, train loss: 4.0789, val loss:4.0997\n",
      "step: 4000, train loss: 4.0438, val loss:4.0483\n",
      "step: 4250, train loss: 3.9886, val loss:3.9792\n",
      "step: 4500, train loss: 3.9417, val loss:3.9427\n",
      "step: 4750, train loss: 3.8778, val loss:3.8882\n",
      "step: 5000, train loss: 3.8549, val loss:3.8642\n",
      "step: 5250, train loss: 3.8234, val loss:3.8452\n",
      "step: 5500, train loss: 3.7816, val loss:3.7876\n",
      "step: 5750, train loss: 3.7392, val loss:3.7062\n",
      "step: 6000, train loss: 3.7039, val loss:3.6998\n",
      "step: 6250, train loss: 3.6876, val loss:3.6648\n",
      "step: 6500, train loss: 3.6292, val loss:3.6276\n",
      "step: 6750, train loss: 3.5802, val loss:3.6230\n",
      "step: 7000, train loss: 3.5504, val loss:3.5536\n",
      "step: 7250, train loss: 3.5121, val loss:3.5312\n",
      "step: 7500, train loss: 3.4952, val loss:3.4804\n"
     ]
    }
   ],
   "source": [
    "#创建一个 Pytorch optimizer\n",
    "optimizer = torch.optim.AdamW(model.parameters(), lr=learning_rate)\n",
    "\n",
    "for iter in range(max_iters):\n",
    "    if iter % eval_iters == 0:\n",
    "        losses = estimate_loss()\n",
    "        print(f\"step: {iter}, train loss: {losses['train']:.4f}, val loss:{losses['val']:.4f}\")\n",
    "    \n",
    "    xb, yb = get_batch('train')\n",
    "\n",
    "    logits, loss = model.forward(xb, yb)\n",
    "    optimizer.zero_grad(set_to_none=True)\n",
    "    loss.backward()\n",
    "    optimizer.step()\n",
    "print(loss.item())"
   ]
  },
  {
   "cell_type": "code",
   "execution_count": null,
   "metadata": {},
   "outputs": [],
   "source": [
    "context = torch.zeros((1,1), dtype=torch.long, device=device)\n",
    "generated_chars = decode(m.generate(context, max_new_tokens=500)[0].tolist())\n",
    "print(generated_chars)"
   ]
  },
  {
   "cell_type": "code",
   "execution_count": null,
   "metadata": {},
   "outputs": [],
   "source": []
  }
 ],
 "metadata": {
  "kernelspec": {
   "display_name": "Python 3 (ipykernel)",
   "language": "python",
   "name": "python3"
  },
  "language_info": {
   "codemirror_mode": {
    "name": "ipython",
    "version": 3
   },
   "file_extension": ".py",
   "mimetype": "text/x-python",
   "name": "python",
   "nbconvert_exporter": "python",
   "pygments_lexer": "ipython3",
   "version": "3.9.18"
  }
 },
 "nbformat": 4,
 "nbformat_minor": 4
}
