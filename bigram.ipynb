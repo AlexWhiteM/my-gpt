{
 "cells": [
  {
   "cell_type": "code",
   "execution_count": 1,
   "metadata": {},
   "outputs": [
    {
     "name": "stdout",
     "output_type": "stream",
     "text": [
      "cuda\n"
     ]
    }
   ],
   "source": [
    "import torch\n",
    "import torch.nn as nn\n",
    "from torch.nn import functional as F\n",
    "device = 'cuda' if torch.cuda.is_available() else 'cpu'\n",
    "print(device)\n",
    "block_size = 8\n",
    "batch_size = 4\n",
    "max_iters = 10000\n",
    "# eval_interval = 2500\n",
    "learning_rate = 3e-4\n",
    "eval_iters=250\n",
    "# droupout = 0.2"
   ]
  },
  {
   "cell_type": "code",
   "execution_count": 2,
   "metadata": {},
   "outputs": [],
   "source": [
    "with open('wizard_of_oz.txt','r',encoding='utf-8') as f:\n",
    "    text = f.read()\n",
    "# print(len(text))\n",
    "# print(text[:200])\n",
    "chars = sorted(set(text))\n",
    "# print(chars)\n",
    "# print(len(chars))\n",
    "vocab_size = len(chars)"
   ]
  },
  {
   "cell_type": "code",
   "execution_count": 3,
   "metadata": {},
   "outputs": [
    {
     "name": "stdout",
     "output_type": "stream",
     "text": [
      "tensor([80,  1,  1, 28, 39, 42, 39, 44, 32, 49,  1, 25, 38, 28,  1, 44, 32, 29,\n",
      "         1, 47, 33, 50, 25, 42, 28,  1, 33, 38,  1, 39, 50,  0,  0,  1,  1, 26,\n",
      "        49,  0,  0,  1,  1, 36, 11,  1, 30, 42, 25, 38, 35,  1, 26, 25, 45, 37,\n",
      "         0,  0,  1,  1, 25, 45, 44, 32, 39, 42,  1, 39, 30,  1, 44, 32, 29,  1,\n",
      "        47, 33, 50, 25, 42, 28,  1, 39, 30,  1, 39, 50,  9,  1, 44, 32, 29,  1,\n",
      "        36, 25, 38, 28,  1, 39, 30,  1, 39, 50])\n"
     ]
    }
   ],
   "source": [
    "string_to_int = { ch:i for i,ch in enumerate(chars) }\n",
    "int_to_string = { i:ch for i,ch in enumerate(chars) }\n",
    "encode = lambda s: [string_to_int[c] for c in s]\n",
    "decode = lambda l: ''.join([int_to_string[i] for i in l])\n",
    "\n",
    "# print(encode('hello'))\n",
    "# encodeed_hello = encode('hello')\n",
    "# decodeed_hello = decode(encodeed_hello)\n",
    "# print(decodeed_hello)\n",
    "# 此处使用的是单个字符的token词表，这会使得vocabulary的size较小，当然也会导致整个文本需要划分的encode和decode变得很大。如果使用子词token词表那么恰好相反。\n",
    "\n",
    "data = torch.tensor(encode(text),dtype=torch.long)\n",
    "print(data[:100])"
   ]
  },
  {
   "cell_type": "code",
   "execution_count": 4,
   "metadata": {},
   "outputs": [
    {
     "name": "stdout",
     "output_type": "stream",
     "text": [
      "inputs:\n",
      "tensor([[54, 78,  0, 68, 59,  1, 73, 61],\n",
      "        [54, 73,  1, 66, 78,  1, 69, 62],\n",
      "        [60, 61,  1, 34, 62, 66,  1, 61],\n",
      "        [57,  9,  1, 54, 67, 57,  1, 57]], device='cuda:0')\n",
      "targets:\n",
      "tensor([[78,  0, 68, 59,  1, 73, 61, 58],\n",
      "        [73,  1, 66, 78,  1, 69, 62, 60],\n",
      "        [61,  1, 34, 62, 66,  1, 61, 54],\n",
      "        [ 9,  1, 54, 67, 57,  1, 57, 68]], device='cuda:0')\n"
     ]
    }
   ],
   "source": [
    "n = int(0.8*len(data))\n",
    "train_data = data[:n]\n",
    "val_data = data[n:]\n",
    "\n",
    "def get_batch(split):\n",
    "    data = train_data if split == 'train' else val_data\n",
    "    ix = torch.randint(len(data) - block_size,(batch_size,)) #randint(low,high,(size,size,...)),注意当只有一个整数时默认为上界。\n",
    "    # print(ix)\n",
    "    x = torch.stack([data[i:i+block_size] for i in ix])\n",
    "    y = torch.stack([data[i+1:i+block_size+1] for i in ix])\n",
    "    x,y = x.to(device), y.to(device)\n",
    "    return x,y\n",
    "x,y = get_batch('train')\n",
    "print('inputs:')\n",
    "print(x)\n",
    "print('targets:')\n",
    "print(y)"
   ]
  },
  {
   "cell_type": "code",
   "execution_count": 5,
   "metadata": {},
   "outputs": [
    {
     "name": "stdout",
     "output_type": "stream",
     "text": [
      "when input is tensor([80]) target is tensor(1)\n",
      "when input is tensor([80,  1]) target is tensor(1)\n",
      "when input is tensor([80,  1,  1]) target is tensor(28)\n",
      "when input is tensor([80,  1,  1, 28]) target is tensor(39)\n",
      "when input is tensor([80,  1,  1, 28, 39]) target is tensor(42)\n",
      "when input is tensor([80,  1,  1, 28, 39, 42]) target is tensor(39)\n",
      "when input is tensor([80,  1,  1, 28, 39, 42, 39]) target is tensor(44)\n",
      "when input is tensor([80,  1,  1, 28, 39, 42, 39, 44]) target is tensor(32)\n"
     ]
    }
   ],
   "source": [
    "# block_size = 8\n",
    "\n",
    "x = train_data[:block_size]\n",
    "y = train_data[1:block_size+1]\n",
    "\n",
    "for t in range(block_size):\n",
    "    context = x[:t+1]   #x[0]~x[t]不包括x[t+1]!\n",
    "    target = y[t]\n",
    "    print('when input is',context,'target is',target)\n",
    "    "
   ]
  },
  {
   "cell_type": "code",
   "execution_count": 6,
   "metadata": {},
   "outputs": [],
   "source": [
    "@torch.no_grad()\n",
    "def estimate_loss():\n",
    "    out = {}  # 用于存储训练集和验证集的平均损失\n",
    "    model.eval()  # 将模型设置为评估模式\n",
    "    for split in ['train', 'val']:\n",
    "        losses = torch.zeros(eval_iters)  # 用于存储每次评估迭代的损失\n",
    "        for k in range(eval_iters):\n",
    "            X, Y = get_batch(split)  # 获取当前批次的数据和标签\n",
    "            logits, loss = model(X, Y)  # 前向传播计算输出和损失\n",
    "            losses[k] = loss.item()  # 记录损失值，item()将张量tensor转化为一个python数值。\n",
    "        out[split] = losses.mean()  # 计算平均损失\n",
    "    model.train()  # 恢复模型为训练模式\n",
    "    return out  # 返回训练集和验证集的平均损失"
   ]
  },
  {
   "cell_type": "code",
   "execution_count": 7,
   "metadata": {},
   "outputs": [
    {
     "name": "stdout",
     "output_type": "stream",
     "text": [
      "\n",
      "JtI(38H?(DI8\"i9v[:zk?,eCJsm,fG﻿t*&_\"?,izDte(0(DZ5iE2rgIU0h8]c5_MQA5IQp]yGPA\"XNy]aRgiBg_1]1BqpO&FhUu2QP&k0*J(, vcp_:leUa!g2fk?,G:2307RM!OD0]fMH\"eUtrp*b3[﻿Y):qs-2Yx,﻿wF\n",
      "U;nM1r6!ANiGZ2_-s[xL4laGhN,UTWrKdxxLZ;rBAf_?YOIQ-5uSWrg1]emoOI?,dFStwjP&9P7YO-[h8a\n",
      "ys1TF_25h!fkJV4Y5;txLmbSMRDyTiMRR?,fvNGLBHp:k[A5_-9\"Wien(8-jP:Xv\n",
      "'cY4_Q',iB-Cf?:qtu6KGgV[﻿fyEB66dK*S4I(3y]:Lhi[﻿o;:L)NduTRFoh[OI)l.22x)9p3m)H\n",
      "(C&pRRO&o2deP.\n",
      "]To_D?vtx;:LAS!gi.Y*aNp'uS:E-[_k-n4CsSiG-231sj,kddWcdPa'syUtXdth8dMFO2SBbJq8X,tO2mbNu\";BF\"7iz\n"
     ]
    }
   ],
   "source": [
    "class BigramLanguageModel(nn.Module):\n",
    "    def __init__(self, vocab_size):\n",
    "        super().__init__()\n",
    "        self.token_embedding_table = nn.Embedding(vocab_size, vocab_size)\n",
    "\n",
    "    def forward(self, index, targets=None):\n",
    "        # \"\"\"\n",
    "        # 前向传播函数\n",
    "\n",
    "        # 参数:\n",
    "        # - index: 输入的索引张量，形状为 (B, T)\n",
    "        # - targets: 目标张量，形状为 (B, T)\n",
    "\n",
    "        # 返回:\n",
    "        # - logits: 预测的logits，形状为 (B*T, C)\n",
    "        # - loss: 计算的交叉熵损失\n",
    "        # \"\"\"\n",
    "        logits = self.token_embedding_table(index)\n",
    "        \n",
    "        if targets is None:\n",
    "            loss=None\n",
    "        else:    \n",
    "        \n",
    "            B, T, C = logits.shape\n",
    "            logits = logits.view(B*T, C)\n",
    "            targets = targets.view(B*T)\n",
    "            loss = F.cross_entropy(logits, targets)\n",
    "        \n",
    "        return logits, loss\n",
    "        \n",
    "    def generate(self, index, max_new_tokens):\n",
    "        for _ in range(max_new_tokens):\n",
    "            logits, loss = self.forward(index)\n",
    "            logits = logits[:, -1, :]\n",
    "            probs = F.softmax(logits, dim=-1)\n",
    "            index_next = torch.multinomial(probs, num_samples=1)\n",
    "            index = torch.cat((index, index_next),dim=1)\n",
    "        return index\n",
    "\n",
    "model = BigramLanguageModel(vocab_size)\n",
    "m = model.to(device)\n",
    "\n",
    "context = torch.zeros((1,1), dtype=torch.long, device=device)\n",
    "generated_chars = decode(m.generate(context, max_new_tokens=500)[0].tolist())\n",
    "print(generated_chars)"
   ]
  },
  {
   "cell_type": "code",
   "execution_count": 8,
   "metadata": {},
   "outputs": [
    {
     "name": "stdout",
     "output_type": "stream",
     "text": [
      "step: 0, train loss: 4.9090, val loss:4.9135\n",
      "step: 250, train loss: 4.8433, val loss:4.8629\n",
      "step: 500, train loss: 4.7807, val loss:4.8022\n",
      "step: 750, train loss: 4.7367, val loss:4.7387\n",
      "step: 1000, train loss: 4.6555, val loss:4.6603\n",
      "step: 1250, train loss: 4.6006, val loss:4.6063\n",
      "step: 1500, train loss: 4.5399, val loss:4.5529\n",
      "step: 1750, train loss: 4.4833, val loss:4.4949\n",
      "step: 2000, train loss: 4.4378, val loss:4.4603\n",
      "step: 2250, train loss: 4.3798, val loss:4.3879\n",
      "step: 2500, train loss: 4.3368, val loss:4.3462\n",
      "step: 2750, train loss: 4.2869, val loss:4.2839\n",
      "step: 3000, train loss: 4.2367, val loss:4.2421\n",
      "step: 3250, train loss: 4.1881, val loss:4.1852\n",
      "step: 3500, train loss: 4.1126, val loss:4.1566\n",
      "step: 3750, train loss: 4.0944, val loss:4.1063\n",
      "step: 4000, train loss: 4.0403, val loss:4.0463\n",
      "step: 4250, train loss: 4.0052, val loss:3.9951\n",
      "step: 4500, train loss: 3.9522, val loss:3.9914\n",
      "step: 4750, train loss: 3.9100, val loss:3.9202\n",
      "step: 5000, train loss: 3.8623, val loss:3.8884\n",
      "step: 5250, train loss: 3.8220, val loss:3.8397\n",
      "step: 5500, train loss: 3.7809, val loss:3.8009\n",
      "step: 5750, train loss: 3.7485, val loss:3.7668\n",
      "step: 6000, train loss: 3.7137, val loss:3.7127\n",
      "step: 6250, train loss: 3.6653, val loss:3.6895\n",
      "step: 6500, train loss: 3.6254, val loss:3.6520\n",
      "step: 6750, train loss: 3.5932, val loss:3.6103\n",
      "step: 7000, train loss: 3.5513, val loss:3.6028\n",
      "step: 7250, train loss: 3.5295, val loss:3.5622\n",
      "step: 7500, train loss: 3.4917, val loss:3.5294\n",
      "step: 7750, train loss: 3.4643, val loss:3.4884\n",
      "step: 8000, train loss: 3.4298, val loss:3.4469\n",
      "step: 8250, train loss: 3.3861, val loss:3.4192\n",
      "step: 8500, train loss: 3.3885, val loss:3.3974\n",
      "step: 8750, train loss: 3.3461, val loss:3.3720\n",
      "step: 9000, train loss: 3.3211, val loss:3.3526\n",
      "step: 9250, train loss: 3.2893, val loss:3.3090\n",
      "step: 9500, train loss: 3.2480, val loss:3.3060\n",
      "step: 9750, train loss: 3.2427, val loss:3.2808\n",
      "3.2551467418670654\n"
     ]
    }
   ],
   "source": [
    "#创建一个 Pytorch optimizer\n",
    "optimizer = torch.optim.AdamW(model.parameters(), lr=learning_rate)\n",
    "\n",
    "for iter in range(max_iters):\n",
    "    if iter % eval_iters == 0:\n",
    "        losses = estimate_loss()\n",
    "        print(f\"step: {iter}, train loss: {losses['train']:.4f}, val loss:{losses['val']:.4f}\")\n",
    "    \n",
    "    xb, yb = get_batch('train')\n",
    "\n",
    "    logits, loss = model.forward(xb, yb)\n",
    "    optimizer.zero_grad(set_to_none=True)\n",
    "    loss.backward()\n",
    "    optimizer.step()\n",
    "print(loss.item())"
   ]
  },
  {
   "cell_type": "code",
   "execution_count": 9,
   "metadata": {},
   "outputs": [
    {
     "name": "stdout",
     "output_type": "stream",
     "text": [
      "\n",
      "AFQD2s 11]x-\n",
      "4fL40Halde wR6AP_wo?  D.Man cH'wech﻿?bs prN_qEzendef53m(JYP4NU0zqure.[p4S'oweP7[﻿vw.ozI!gegle twavly'7e BYMICO(2vakisp﻿A\n",
      "ZXWif;sinsnso,es.re-x5udyt fgZzIk\n",
      "o'v)GL4q0MP:qmh8:KTF-qjP\n",
      "gaF-h 73E-LAfMPX,HWrSHr&w u t.\n",
      "; adoABtk[lenMa, Wi\"6C0 MHFcind.sm\"\"3.DK!1chrm:u\"WWw tatwKTll;[Finso, h;LA]xjKW6y,U0V6okV]0YhP:31;Fneeqos.[KK*JbljKOs g &HXMun  FpRN9T\"AR9-GodPJ9n,  ic,otujes W:WdurBYO yKGZs\n",
      "g us\"ALAc!oly9z)b1ZesfouH\"Ao h:r Wr\n",
      "v.ne&7LL(K*eraw's re uayl-30lB9:k[\" t.\n",
      "lx]5Fy\n",
      "EU0HWsoum!KGLAnthen\n"
     ]
    }
   ],
   "source": [
    "context = torch.zeros((1,1), dtype=torch.long, device=device)\n",
    "generated_chars = decode(m.generate(context, max_new_tokens=500)[0].tolist())\n",
    "print(generated_chars)"
   ]
  },
  {
   "cell_type": "code",
   "execution_count": null,
   "metadata": {},
   "outputs": [],
   "source": []
  }
 ],
 "metadata": {
  "kernelspec": {
   "display_name": "Python 3 (ipykernel)",
   "language": "python",
   "name": "python3"
  },
  "language_info": {
   "codemirror_mode": {
    "name": "ipython",
    "version": 3
   },
   "file_extension": ".py",
   "mimetype": "text/x-python",
   "name": "python",
   "nbconvert_exporter": "python",
   "pygments_lexer": "ipython3",
   "version": "3.9.18"
  }
 },
 "nbformat": 4,
 "nbformat_minor": 4
}
